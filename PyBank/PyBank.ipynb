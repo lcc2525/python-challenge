{
 "cells": [
  {
   "cell_type": "code",
   "execution_count": 206,
   "metadata": {},
   "outputs": [],
   "source": [
    "#import files\n",
    "import pandas as pd\n",
    "import numpy as np"
   ]
  },
  {
   "cell_type": "code",
   "execution_count": 207,
   "metadata": {},
   "outputs": [
    {
     "data": {
      "text/plain": [
       "'en_US.UTF-8'"
      ]
     },
     "execution_count": 207,
     "metadata": {},
     "output_type": "execute_result"
    }
   ],
   "source": [
    "# read in csv file\n",
    "bank_csv_path = \"budget_data.csv\"\n",
    "\n",
    "# Import the data into a Pandas DataFrame\n",
    "budget_df = pd.read_csv(bank_csv_path)\n",
    "budget_df.head()\n",
    "\n",
    "import locale\n",
    "# locale.setlocale( locale.LC_ALL, 'English_United States.1252' )\n",
    "locale.setlocale(locale.LC_ALL, 'en_US.UTF-8')\n",
    "# locale.currency( 1234.50, grouping = True )"
   ]
  },
  {
   "cell_type": "code",
   "execution_count": 208,
   "metadata": {},
   "outputs": [
    {
     "data": {
      "text/plain": [
       "86"
      ]
     },
     "execution_count": 208,
     "metadata": {},
     "output_type": "execute_result"
    }
   ],
   "source": [
    "# total the number of months in data set\n",
    "Total_months = budget_df.Date.count()\n",
    "Total_months"
   ]
  },
  {
   "cell_type": "code",
   "execution_count": 209,
   "metadata": {},
   "outputs": [],
   "source": [
    "# total net amount P/L\n",
    "Total_net = budget_df['Profit/Losses'].sum()\n",
    "Total_net = locale.currency(Total_net, grouping = True )"
   ]
  },
  {
   "cell_type": "code",
   "execution_count": 210,
   "metadata": {},
   "outputs": [],
   "source": [
    "# Average change in P/L\n",
    "Day_changdf = budget_df.set_index('Date').diff()\n",
    "Day_changdf\n",
    "Ave_changdf = Day_changdf.sum() / (Total_months - 1)\n",
    "# Ave_changdf = locale.currency(Ave_changdf, grouping = True)\n",
    "Ave_changdf = Ave_changdf.reset_index()\n",
    "Ave_changdf = locale.currency(Ave_changdf.loc[0,0], grouping = True)\n",
    "# Ave_changdf\n",
    "#Ave_changdf"
   ]
  },
  {
   "cell_type": "code",
   "execution_count": 211,
   "metadata": {},
   "outputs": [],
   "source": [
    "# Greatest increase in profits\n",
    "Greatest_inc = Day_changdf[Day_changdf['Profit/Losses']==Day_changdf['Profit/Losses'].max()]\n",
    "Greatest_day = Greatest_inc.reset_index()\n",
    "# Greatest_day\n",
    "gday_final = (Greatest_day.loc[0,'Date'])\n",
    "\n",
    "gpro_final = locale.currency((Greatest_day.loc[0, 'Profit/Losses']), grouping = True)\n",
    "# gpro_final\n",
    "# gpro_final2 = gpro_final.'${:, .2f}'.format(gpro_final)\n",
    "# locale.currency( 1234.50, grouping = True )"
   ]
  },
  {
   "cell_type": "code",
   "execution_count": 212,
   "metadata": {},
   "outputs": [],
   "source": [
    "# greatest decrease in profit\n",
    "#  \n",
    "Lowest_inc = Day_changdf[Day_changdf['Profit/Losses']==Day_changdf['Profit/Losses'].min()]\n",
    "Lowest_inc = Lowest_inc.reset_index()\n",
    "# reset index to make easier to parse\n",
    "lday_final = (Lowest_inc.loc[0,'Date'])\n",
    "\n",
    "glow_final = locale.currency((Lowest_inc.loc[0, 'Profit/Losses']), grouping = True)\n",
    "# glow_final"
   ]
  },
  {
   "cell_type": "code",
   "execution_count": 213,
   "metadata": {},
   "outputs": [],
   "source": [
    "#Print to terminal \n",
    "#Total_months\n",
    "#Total_net\n",
    "#Ave_changdf\n",
    "#Greatest_inc\n",
    "\n",
    "#Lowest_inc.list()\n",
    "\n",
    "\n"
   ]
  },
  {
   "cell_type": "code",
   "execution_count": 217,
   "metadata": {},
   "outputs": [
    {
     "name": "stdout",
     "output_type": "stream",
     "text": [
      "Financial Analysis \n",
      "_______________________________________________\n",
      "Total Months: 86\n",
      "Total:  $38,382,578.00\n",
      "Average Change: ($2,315.12)\n",
      "Greatest Increase in Profits: Feb-12  $1,926,159.00\n",
      "Greatest Decrease in Profits: Sep-13  ($2,196,167.00)\n"
     ]
    }
   ],
   "source": [
    "# Print to csv\n",
    "# \n",
    "\n",
    "\n",
    "\n",
    "\n",
    "\n",
    "print (\"Financial Analysis \")\n",
    "print (\"_______________________________________________\")\n",
    "print(f'Total Months: {Total_months}')\n",
    "print(f'Total:  {Total_net}')\n",
    "print (f'Average Change: {Ave_changdf}')\n",
    "print(f'Greatest Increase in Profits: {gday_final}  {gpro_final}')\n",
    "print(f'Greatest Decrease in Profits: {lday_final}  {glow_final}')\n",
    "\n",
    "\n",
    "# print(summary_df)\n",
    "\n",
    "#print (\"Financial Analysis\")\n",
    "#print (\"----------------------------------------\")\n",
    "#print (f'Total Months: {Total_months}')\n",
    "#print (f'Total:  {Total_net}')\n",
    "#print (f'Average Change:  {Ave_changdf}')\n",
    "#print (f'Greatest Increase in Profits:  {Greatest_inc}')\n",
    "#print (f'Greatest Decrease in Profits: {Lowest_inc}') summary_df = \n",
    "with open(\"Pybank.txt\", \"w\") as text_file:\n",
    "    print (\"Financial Analysis \", file=text_file )\n",
    "    print (\"_______________________________________________\", file=text_file)\n",
    "    print(f'Total Months: {Total_months}', file=text_file)\n",
    "    print(f'Total:  {Total_net}', file=text_file)\n",
    "    print (f'Average Change: {Ave_changdf}', file=text_file)\n",
    "    print(f'Greatest Increase in Profits: {gday_final}  {gpro_final}', file=text_file)\n",
    "    print(f'Greatest Decrease in Profits: {lday_final}  {glow_final}', file = text_file)\n",
    "\n",
    "# with open(\"Output.txt\", \"w\") as text_file:\n",
    "#    print(f\"Purchase Amount: {TotalAmount}\", file=text_file)\n"
   ]
  },
  {
   "cell_type": "code",
   "execution_count": null,
   "metadata": {},
   "outputs": [],
   "source": []
  }
 ],
 "metadata": {
  "kernelspec": {
   "display_name": "Python 3",
   "language": "python",
   "name": "python3"
  },
  "language_info": {
   "codemirror_mode": {
    "name": "ipython",
    "version": 3
   },
   "file_extension": ".py",
   "mimetype": "text/x-python",
   "name": "python",
   "nbconvert_exporter": "python",
   "pygments_lexer": "ipython3",
   "version": "3.6.5"
  }
 },
 "nbformat": 4,
 "nbformat_minor": 2
}
