{
 "cells": [
  {
   "cell_type": "code",
   "execution_count": 223,
   "metadata": {},
   "outputs": [],
   "source": [
    "#import dependencies\n",
    "import pandas as pd\n",
    "import numpy as np\n",
    "\n"
   ]
  },
  {
   "cell_type": "code",
   "execution_count": 224,
   "metadata": {},
   "outputs": [],
   "source": [
    "#Import csv %%file\n",
    "election_csv = \"C:/users/lcc25/repos/utexas_hmwk_python/election_data.csv\"\n",
    "election_df = pd.read_csv(election_csv)\n",
    "\n",
    "election_df.head()\n",
    "# election_df.count()\n",
    "relection_df = election_df.dropna(axis= 0)\n",
    "\n"
   ]
  },
  {
   "cell_type": "code",
   "execution_count": 225,
   "metadata": {},
   "outputs": [],
   "source": [
    "#Clean up date null votes or null candidates"
   ]
  },
  {
   "cell_type": "code",
   "execution_count": 226,
   "metadata": {},
   "outputs": [
    {
     "data": {
      "text/plain": [
       "0    20.000%\n",
       "1    63.000%\n",
       "2    14.000%\n",
       "3     3.000%\n",
       "dtype: object"
      ]
     },
     "execution_count": 226,
     "metadata": {},
     "output_type": "execute_result"
    }
   ],
   "source": [
    "# Compile list candidates that recieved votes\n",
    "Cand_votedf = relection_df.groupby([\"Candidate\"]).count().reset_index()\n",
    "Cand_votedf = Cand_votedf.loc[:, 'Candidate':'Voter ID'].rename(columns={'Voter ID': 'Votes'})\n",
    "\n",
    "#Total all votes \n",
    "Sum_ofVotesdf = Cand_votedf['Votes'].sum()\n",
    "# Create table with percentage added\n",
    "\n",
    "def cal_per(row):\n",
    "    return '{:.3%}'.format((row['Votes'] / Sum_ofVotesdf) * 1)\n",
    "\n",
    "\n",
    "Cand_votedf.apply(cal_per, axis=1)"
   ]
  },
  {
   "cell_type": "code",
   "execution_count": 227,
   "metadata": {},
   "outputs": [
    {
     "data": {
      "text/html": [
       "<div>\n",
       "<style scoped>\n",
       "    .dataframe tbody tr th:only-of-type {\n",
       "        vertical-align: middle;\n",
       "    }\n",
       "\n",
       "    .dataframe tbody tr th {\n",
       "        vertical-align: top;\n",
       "    }\n",
       "\n",
       "    .dataframe thead th {\n",
       "        text-align: right;\n",
       "    }\n",
       "</style>\n",
       "<table border=\"1\" class=\"dataframe\">\n",
       "  <thead>\n",
       "    <tr style=\"text-align: right;\">\n",
       "      <th></th>\n",
       "      <th>Candidate</th>\n",
       "      <th>Votes</th>\n",
       "      <th>% of votes</th>\n",
       "    </tr>\n",
       "  </thead>\n",
       "  <tbody>\n",
       "    <tr>\n",
       "      <th>1</th>\n",
       "      <td>Khan</td>\n",
       "      <td>2218231</td>\n",
       "      <td>63.000%</td>\n",
       "    </tr>\n",
       "    <tr>\n",
       "      <th>0</th>\n",
       "      <td>Correy</td>\n",
       "      <td>704200</td>\n",
       "      <td>20.000%</td>\n",
       "    </tr>\n",
       "    <tr>\n",
       "      <th>2</th>\n",
       "      <td>Li</td>\n",
       "      <td>492940</td>\n",
       "      <td>14.000%</td>\n",
       "    </tr>\n",
       "    <tr>\n",
       "      <th>3</th>\n",
       "      <td>O'Tooley</td>\n",
       "      <td>105630</td>\n",
       "      <td>3.000%</td>\n",
       "    </tr>\n",
       "  </tbody>\n",
       "</table>\n",
       "</div>"
      ],
      "text/plain": [
       "  Candidate    Votes % of votes\n",
       "1      Khan  2218231    63.000%\n",
       "0    Correy   704200    20.000%\n",
       "2        Li   492940    14.000%\n",
       "3  O'Tooley   105630     3.000%"
      ]
     },
     "execution_count": 227,
     "metadata": {},
     "output_type": "execute_result"
    }
   ],
   "source": [
    "# Total number Votes for each candidate\n",
    "\n",
    "Cand_votedf['% of votes'] = Cand_votedf.apply(cal_per, axis=1)\n",
    "result_df = Cand_votedf.sort_values('Votes', ascending=False)\n",
    "winner_df = result_df.iloc[0,0]\n",
    "result_df\n",
    "#new_look = Cand_votedf.sort_values('% of votes', ascending = False)\n",
    "# result_df.reset_index()\n",
    "# result_df.set_index('Candidate', inplace=True)\n",
    "#new_look.sort(columns='Votes', axis=1, ascending=False)\n",
    "#new_look.columns = new_look.iloc[0]\n",
    "#new_look = new_look[0:]\n",
    "#new_look\n",
    "#(loc.new_look[1].to_string(index=False))\n",
    "# Sum_ofVotes\n",
    "#Sum_ofVotesdf['Percentage'] = (['Votes'] \\ Sum_ofVotesdf)"
   ]
  },
  {
   "cell_type": "code",
   "execution_count": 228,
   "metadata": {},
   "outputs": [
    {
     "data": {
      "text/html": [
       "<div>\n",
       "<style scoped>\n",
       "    .dataframe tbody tr th:only-of-type {\n",
       "        vertical-align: middle;\n",
       "    }\n",
       "\n",
       "    .dataframe tbody tr th {\n",
       "        vertical-align: top;\n",
       "    }\n",
       "\n",
       "    .dataframe thead th {\n",
       "        text-align: right;\n",
       "    }\n",
       "</style>\n",
       "<table border=\"1\" class=\"dataframe\">\n",
       "  <thead>\n",
       "    <tr style=\"text-align: right;\">\n",
       "      <th></th>\n",
       "      <th>Khan</th>\n",
       "      <th>2218231</th>\n",
       "      <th>63.000%</th>\n",
       "    </tr>\n",
       "  </thead>\n",
       "  <tbody>\n",
       "    <tr>\n",
       "      <th>0</th>\n",
       "      <td>Correy</td>\n",
       "      <td>704200</td>\n",
       "      <td>20.000%</td>\n",
       "    </tr>\n",
       "    <tr>\n",
       "      <th>2</th>\n",
       "      <td>Li</td>\n",
       "      <td>492940</td>\n",
       "      <td>14.000%</td>\n",
       "    </tr>\n",
       "    <tr>\n",
       "      <th>3</th>\n",
       "      <td>O'Tooley</td>\n",
       "      <td>105630</td>\n",
       "      <td>3.000%</td>\n",
       "    </tr>\n",
       "  </tbody>\n",
       "</table>\n",
       "</div>"
      ],
      "text/plain": [
       "       Khan  2218231  63.000%\n",
       "0    Correy   704200  20.000%\n",
       "2        Li   492940  14.000%\n",
       "3  O'Tooley   105630   3.000%"
      ]
     },
     "execution_count": 228,
     "metadata": {},
     "output_type": "execute_result"
    }
   ],
   "source": [
    "head_less = result_df.rename(columns=result_df.iloc[0]).drop(result_df.index[0])\n",
    "#head_less\n",
    "head_less = head_less.rename_axis(None)\n",
    "head_less"
   ]
  },
  {
   "cell_type": "code",
   "execution_count": 229,
   "metadata": {},
   "outputs": [
    {
     "name": "stdout",
     "output_type": "stream",
     "text": [
      "Election Results \n",
      "_______________________________________________\n",
      "Total Votes: 3521001\n",
      "_______________________________________________\n",
      "Khan  2218231  63.000%\n",
      "  Correy   704200  20.000%\n",
      "      Li   492940  14.000%\n",
      "O'Tooley   105630   3.000%\n",
      "_______________________________________________\n",
      "Winner:  Khan\n",
      "_______________________________________________\n"
     ]
    }
   ],
   "source": [
    "# percentage each candidate recieved\n",
    "\n",
    "print (\"Election Results \")\n",
    "print (\"_______________________________________________\")\n",
    "print(f'Total Votes: {Sum_ofVotesdf}')\n",
    "print(\"_______________________________________________\")\n",
    "print(head_less.to_string(index=False, justify='right'))\n",
    "\n",
    "print(\"_______________________________________________\")\n",
    "print(f'Winner:  {winner_df}')\n",
    "print(\"_______________________________________________\")\n",
    "\n"
   ]
  },
  {
   "cell_type": "code",
   "execution_count": 238,
   "metadata": {},
   "outputs": [],
   "source": [
    "with open(\"Election.txt\", \"w\") as text_file:\n",
    "    print (\"Election Results \", file=text_file )\n",
    "    print (\"_______________________________________________\", file=text_file)\n",
    "    \n",
    "    print(f'Total Votes: {Sum_ofVotesdf}', file=text_file)\n",
    "    print(\"_______________________________________________\", file=text_file)\n",
    "    print(head_less.to_string(index=False, justify='right'), file=text_file)\n",
    "\n",
    "    print(\"_______________________________________________\", file=text_file)\n",
    "    print(f'Winner:  {winner_df}', file=text_file)\n",
    "    print(\"_______________________________________________\", file=text_file)\n",
    "\n"
   ]
  },
  {
   "cell_type": "code",
   "execution_count": null,
   "metadata": {},
   "outputs": [],
   "source": []
  }
 ],
 "metadata": {
  "kernelspec": {
   "display_name": "Python 3",
   "language": "python",
   "name": "python3"
  },
  "language_info": {
   "codemirror_mode": {
    "name": "ipython",
    "version": 3
   },
   "file_extension": ".py",
   "mimetype": "text/x-python",
   "name": "python",
   "nbconvert_exporter": "python",
   "pygments_lexer": "ipython3",
   "version": "3.6.5"
  }
 },
 "nbformat": 4,
 "nbformat_minor": 2
}
